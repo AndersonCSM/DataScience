{
 "cells": [
  {
   "cell_type": "markdown",
   "id": "e00e9ec7-9b65-4221-b9e0-0c8930297549",
   "metadata": {},
   "source": [
    "<center><b>UNIVERSIDADE FEDERAL RURAL DO SEMI-ÁRIDO</b> </center>\n",
    "<center><b>Inteligência Artificial</b></center>\n",
    "\n",
    "\n",
    "<h3><center>Implementação de algoritmos de aprendizado de máquina para análise de\n",
    "padrões em ações do mercado Financeiro</center></h3>\n",
    "\n",
    "\n",
    "<div style=\"text-align: right;\">Anderson Carlos da Silva Morais</div>\n",
    "<div style=\"text-align: right;\">Anderson Matheus Melo da Silva</div>\n",
    "\n",
    "\n",
    "\n",
    "<center><b>Proposta</b></center>\n",
    "<b>Introdução:</b> Nos últimos anos, temos presenciado a popularização e disseminação da inteligência\n",
    "artificial e dos algoritmos de aprendizado de máquina em várias áreas. Um campo que tem se\n",
    "beneficiado dessas tecnologias é o mercado financeiro, onde o uso desses algoritmos para análise de\n",
    "ações tem se tornado uma prática comum. No entanto, é importante destacar que a promessa de\n",
    "retornos financeiros milagrosos e a venda de produtos e softwares enganosos têm gerado\n",
    "desconfiança nesse cenário.\n",
    "\n",
    "<b>Objetivo:</b> O objetivo deste projeto é explorar o uso de algoritmos de aprendizado de máquina para\n",
    "análise de padrões no mercado financeiro de forma ética e didática. O projeto busca fornecer um\n",
    "ambiente de estudo no qual será possível entender e aplicar diferentes algoritmos de ML em um\n",
    "contexto real, utilizando um conjunto de dados definido de ações.\n",
    "Metodologia:\n",
    "1. <b>Coleta de Dados:</b> Será realizado um levantamento de dados históricos de ações de\n",
    "empresas, utilizando fontes confiáveis e de acesso público. Os dados incluirão informações\n",
    "como preço de abertura, preço de fechamento, volume de negociação, entre outros\n",
    "indicadores relevantes.\n",
    "2. <b>Pré-processamento dos Dados:</b> Os dados coletados passarão por um processo de limpeza e\n",
    "transformação, a fim de remover ruídos e garantir a qualidade dos dados. Serão aplicadas\n",
    "técnicas de normalização e tratamento de valores ausentes, quando necessário.\n",
    "3. <b>Exploração de Algoritmos de Aprendizado de Máquina:</b> Serão utilizados diferentes\n",
    "algoritmos de aprendizado de máquina, como regressão linear, árvores de decisão, redes\n",
    "neurais, entre outros, para analisar os dados coletados. Cada algoritmo será aplicado e\n",
    "avaliado em termos de desempenho na identificação de padrões relevantes no mercado\n",
    "financeiro.\n",
    "4. <b>Avaliação e Interpretação dos Resultados:</b> Os resultados obtidos serão analisados e\n",
    "interpretados de forma a identificar padrões e tendências no mercado financeiro. Serão\n",
    "realizadas métricas de desempenho para avaliar a eficácia dos algoritmos utilizados. É\n",
    "importante ressaltar que este projeto não tem como objetivo fornecer recomendações de\n",
    "compra ou venda de ações, mas sim estudar os conceitos de ML em um contexto real.\n",
    "\n",
    "<b>Justificativa:</b> Este projeto visa explorar o uso de algoritmos de aprendizado de máquina para análise\n",
    "de padrões no mercado financeiro. A proposta é utilizar um conjunto de dados definido de ações\n",
    "para aplicar diferentes algoritmos e entender seu desempenho na identificação de padrões\n",
    "relevantes. Ao final do projeto, espera-se obter um maior entendimento sobre o uso de ML no\n",
    "mercado financeiro, contribuindo para o avanço do conhecimento nessa área.\n",
    "\n",
    "<b>Observação:</b> É importante ressaltar que este projeto destina-se apenas ao estudo e compreensão dos\n",
    "conceitos de aprendizado de máquina em um contexto real. Não deve ser interpretado como\n",
    "recomendação de compra ou venda de ações. Sempre consulte profissionais especializados antes de\n",
    "tomar decisões financeiras.\n",
    "\n"
   ]
  },
  {
   "cell_type": "markdown",
   "id": "6f2ca08c-ef7c-4da9-9a34-ac6a8479fe60",
   "metadata": {
    "tags": []
   },
   "source": [
    "# Etapa 1: Coleta de Dados"
   ]
  },
  {
   "cell_type": "code",
   "execution_count": 1,
   "id": "cc60cd41-6021-40a8-9257-e1be1c66d539",
   "metadata": {},
   "outputs": [],
   "source": [
    "# Realizando as importações das bibliotecas necessárias\n",
    "import pandas as pd # tratamento de dados\n",
    "import numpy as np # tratamento de dados\n",
    "import cfscrape # Requisição na raspagem de dados\n",
    "from bs4 import BeautifulSoup as bs # Filtro e modificação na raspagem de dados\n",
    "import unidecode # tratamento de Strings\n",
    "import datetime # Exportar os dados com os tratamentos "
   ]
  },
  {
   "cell_type": "markdown",
   "id": "06f7f1c6-a9f3-497b-ae6f-d47e67f51842",
   "metadata": {},
   "source": [
    "A fonte de dados abordada para o projeto serão as disponíveis no site [Fundamentus](https://www.fundamentus.com.br/fii_resultado.php), contudo será apresentado outros links de sites que podem ser usados por futuros projetos."
   ]
  },
  {
   "cell_type": "code",
   "execution_count": 2,
   "id": "b55312bf-9554-4935-a207-b3e8fa9afa9b",
   "metadata": {},
   "outputs": [],
   "source": [
    "# headers \n",
    "headers ={\"User-Agent\": \"Mozilla/5.0 (Windows NT 10.0; Win64; x65; rv:66.0) Gecko/20100101 Firefox/66.0\",\n",
    "          \"Accept-Enconding\":\"gzip, deflate\",\n",
    "          \"Accept\":\"text/html,application/xhtml+xml,application/xml;q=0.9,*/*;q=0.8\",\n",
    "          \"DNT\":\"1\", \"Connection\":\"Close\", \"Upgrade-Insecure-Request\":\"1\"}\n",
    "\n",
    "# Outros Sites para raspagens de dados futuras\n",
    "url = \"https://www.fundamentus.com.br/fii_resultado.php\"\n",
    "url2 = \"https://www.fundsexplorer.com.br/ranking\"\n",
    "url3 = \"https://www.clubefii.com.br/fundos-imobiliarios/39950/IFIX\"\n",
    "url4 = \"https://fiis.com.br/resumo/\"\n",
    "\n",
    "urls = [url, url2, url3, url4]\n"
   ]
  },
  {
   "cell_type": "code",
   "execution_count": 11,
   "id": "a8d841b9-8fc0-4fd6-a719-2e45290de661",
   "metadata": {},
   "outputs": [],
   "source": [
    "# Usando da biblioteca cfscrape para obter uma requisição do site escolhido\n",
    "\n",
    "# cabeçalhos para acesso\n",
    "headers ={\"User-Agent\": \"Mozilla/5.0 (Windows NT 10.0; Win64; x64) AppleWebKit/537.36 (KHTML, like Gecko) Chrome/94.0.4606.61 Safari/537.36\"}\n",
    "\n",
    "# url do site escolhido\n",
    "url = \"https://www.fundamentus.com.br/fii_resultado.php\"\n",
    "\n",
    "# ferramentas de scrap para obter a requisição\n",
    "scraper = cfscrape.create_scraper()\n",
    "response = scraper.get(url)\n"
   ]
  },
  {
   "cell_type": "code",
   "execution_count": 12,
   "id": "b43768bc-ee71-4cf6-8685-a239d77a5680",
   "metadata": {},
   "outputs": [
    {
     "name": "stdout",
     "output_type": "stream",
     "text": [
      "<Response [200]>\n"
     ]
    }
   ],
   "source": [
    "# Printando a resposta da requisição HTTP, caso 200 é que tudo deu certo\n",
    "print(response)"
   ]
  },
  {
   "cell_type": "code",
   "execution_count": 8,
   "id": "c5816dfb-ab81-425f-9056-8acbcf61a613",
   "metadata": {},
   "outputs": [],
   "source": [
    "# Acessando o conteúdo HTML da resposta da requisição com formatação html esparço, mais fácil de se trabalhar\n",
    "soup = bs(response.content, \"html.parser\")\n",
    "\n",
    "# Para visualizar o HTML do site basta tirar o ; do recurso abaixo\n",
    "soup.content"
   ]
  },
  {
   "cell_type": "code",
   "execution_count": 6,
   "id": "88e7839b-815b-4801-a2f5-71be52aaaa19",
   "metadata": {},
   "outputs": [],
   "source": [
    "# Filtrando o HTML para apenas a tabela de ações\n",
    "n = soup.find(\"table\")"
   ]
  },
  {
   "cell_type": "code",
   "execution_count": 7,
   "id": "af93d0da-fabb-4ebd-bc37-ba519ed44ef4",
   "metadata": {},
   "outputs": [
    {
     "ename": "ParserError",
     "evalue": "Document is empty",
     "output_type": "error",
     "traceback": [
      "\u001b[1;31m---------------------------------------------------------------------------\u001b[0m",
      "\u001b[1;31mOSError\u001b[0m                                   Traceback (most recent call last)",
      "\u001b[1;32m~\\anaconda3\\lib\\site-packages\\pandas\\io\\html.py\u001b[0m in \u001b[0;36m_build_doc\u001b[1;34m(self)\u001b[0m\n\u001b[0;32m    742\u001b[0m                 \u001b[1;31m# try to parse the input in the simplest way\u001b[0m\u001b[1;33m\u001b[0m\u001b[1;33m\u001b[0m\u001b[0m\n\u001b[1;32m--> 743\u001b[1;33m                 \u001b[0mr\u001b[0m \u001b[1;33m=\u001b[0m \u001b[0mparse\u001b[0m\u001b[1;33m(\u001b[0m\u001b[0mself\u001b[0m\u001b[1;33m.\u001b[0m\u001b[0mio\u001b[0m\u001b[1;33m,\u001b[0m \u001b[0mparser\u001b[0m\u001b[1;33m=\u001b[0m\u001b[0mparser\u001b[0m\u001b[1;33m)\u001b[0m\u001b[1;33m\u001b[0m\u001b[1;33m\u001b[0m\u001b[0m\n\u001b[0m\u001b[0;32m    744\u001b[0m             \u001b[1;32mtry\u001b[0m\u001b[1;33m:\u001b[0m\u001b[1;33m\u001b[0m\u001b[1;33m\u001b[0m\u001b[0m\n",
      "\u001b[1;32m~\\anaconda3\\lib\\site-packages\\lxml\\html\\__init__.py\u001b[0m in \u001b[0;36mparse\u001b[1;34m(filename_or_url, parser, base_url, **kw)\u001b[0m\n\u001b[0;32m    936\u001b[0m         \u001b[0mparser\u001b[0m \u001b[1;33m=\u001b[0m \u001b[0mhtml_parser\u001b[0m\u001b[1;33m\u001b[0m\u001b[1;33m\u001b[0m\u001b[0m\n\u001b[1;32m--> 937\u001b[1;33m     \u001b[1;32mreturn\u001b[0m \u001b[0metree\u001b[0m\u001b[1;33m.\u001b[0m\u001b[0mparse\u001b[0m\u001b[1;33m(\u001b[0m\u001b[0mfilename_or_url\u001b[0m\u001b[1;33m,\u001b[0m \u001b[0mparser\u001b[0m\u001b[1;33m,\u001b[0m \u001b[0mbase_url\u001b[0m\u001b[1;33m=\u001b[0m\u001b[0mbase_url\u001b[0m\u001b[1;33m,\u001b[0m \u001b[1;33m**\u001b[0m\u001b[0mkw\u001b[0m\u001b[1;33m)\u001b[0m\u001b[1;33m\u001b[0m\u001b[1;33m\u001b[0m\u001b[0m\n\u001b[0m\u001b[0;32m    938\u001b[0m \u001b[1;33m\u001b[0m\u001b[0m\n",
      "\u001b[1;32msrc/lxml/etree.pyx\u001b[0m in \u001b[0;36mlxml.etree.parse\u001b[1;34m()\u001b[0m\n",
      "\u001b[1;32msrc/lxml/parser.pxi\u001b[0m in \u001b[0;36mlxml.etree._parseDocument\u001b[1;34m()\u001b[0m\n",
      "\u001b[1;32msrc/lxml/parser.pxi\u001b[0m in \u001b[0;36mlxml.etree._parseDocumentFromURL\u001b[1;34m()\u001b[0m\n",
      "\u001b[1;32msrc/lxml/parser.pxi\u001b[0m in \u001b[0;36mlxml.etree._parseDocFromFile\u001b[1;34m()\u001b[0m\n",
      "\u001b[1;32msrc/lxml/parser.pxi\u001b[0m in \u001b[0;36mlxml.etree._BaseParser._parseDocFromFile\u001b[1;34m()\u001b[0m\n",
      "\u001b[1;32msrc/lxml/parser.pxi\u001b[0m in \u001b[0;36mlxml.etree._ParserContext._handleParseResultDoc\u001b[1;34m()\u001b[0m\n",
      "\u001b[1;32msrc/lxml/parser.pxi\u001b[0m in \u001b[0;36mlxml.etree._handleParseResult\u001b[1;34m()\u001b[0m\n",
      "\u001b[1;32msrc/lxml/parser.pxi\u001b[0m in \u001b[0;36mlxml.etree._raiseParseError\u001b[1;34m()\u001b[0m\n",
      "\u001b[1;31mOSError\u001b[0m: Error reading file '': failed to load external entity \"\"",
      "\nDuring handling of the above exception, another exception occurred:\n",
      "\u001b[1;31mParserError\u001b[0m                               Traceback (most recent call last)",
      "\u001b[1;32m~\\AppData\\Local\\Temp\\ipykernel_24488\\1541916838.py\u001b[0m in \u001b[0;36m<module>\u001b[1;34m\u001b[0m\n\u001b[0;32m      3\u001b[0m \u001b[1;31m# O código gera uma lista de dataframes do código HTML, como o código já foi filtrado, só apresenta um dataframe,\u001b[0m\u001b[1;33m\u001b[0m\u001b[1;33m\u001b[0m\u001b[0m\n\u001b[0;32m      4\u001b[0m \u001b[1;31m# basta indicar o índice para acessá-lo diretamente, atribuindo a variável que representará o dataset\u001b[0m\u001b[1;33m\u001b[0m\u001b[1;33m\u001b[0m\u001b[0m\n\u001b[1;32m----> 5\u001b[1;33m \u001b[0mdt\u001b[0m\u001b[1;33m=\u001b[0m \u001b[0mpd\u001b[0m\u001b[1;33m.\u001b[0m\u001b[0mread_html\u001b[0m\u001b[1;33m(\u001b[0m\u001b[0mresponse\u001b[0m\u001b[1;33m.\u001b[0m\u001b[0mcontent\u001b[0m\u001b[1;33m)\u001b[0m\u001b[1;33m[\u001b[0m\u001b[1;36m0\u001b[0m\u001b[1;33m]\u001b[0m\u001b[1;33m\u001b[0m\u001b[1;33m\u001b[0m\u001b[0m\n\u001b[0m\u001b[0;32m      6\u001b[0m \u001b[0mdt\u001b[0m\u001b[1;33m\u001b[0m\u001b[1;33m\u001b[0m\u001b[0m\n\u001b[0;32m      7\u001b[0m \u001b[1;33m\u001b[0m\u001b[0m\n",
      "\u001b[1;32m~\\anaconda3\\lib\\site-packages\\pandas\\util\\_decorators.py\u001b[0m in \u001b[0;36mwrapper\u001b[1;34m(*args, **kwargs)\u001b[0m\n\u001b[0;32m    309\u001b[0m                     \u001b[0mstacklevel\u001b[0m\u001b[1;33m=\u001b[0m\u001b[0mstacklevel\u001b[0m\u001b[1;33m,\u001b[0m\u001b[1;33m\u001b[0m\u001b[1;33m\u001b[0m\u001b[0m\n\u001b[0;32m    310\u001b[0m                 )\n\u001b[1;32m--> 311\u001b[1;33m             \u001b[1;32mreturn\u001b[0m \u001b[0mfunc\u001b[0m\u001b[1;33m(\u001b[0m\u001b[1;33m*\u001b[0m\u001b[0margs\u001b[0m\u001b[1;33m,\u001b[0m \u001b[1;33m**\u001b[0m\u001b[0mkwargs\u001b[0m\u001b[1;33m)\u001b[0m\u001b[1;33m\u001b[0m\u001b[1;33m\u001b[0m\u001b[0m\n\u001b[0m\u001b[0;32m    312\u001b[0m \u001b[1;33m\u001b[0m\u001b[0m\n\u001b[0;32m    313\u001b[0m         \u001b[1;32mreturn\u001b[0m \u001b[0mwrapper\u001b[0m\u001b[1;33m\u001b[0m\u001b[1;33m\u001b[0m\u001b[0m\n",
      "\u001b[1;32m~\\anaconda3\\lib\\site-packages\\pandas\\io\\html.py\u001b[0m in \u001b[0;36mread_html\u001b[1;34m(io, match, flavor, header, index_col, skiprows, attrs, parse_dates, thousands, encoding, decimal, converters, na_values, keep_default_na, displayed_only)\u001b[0m\n\u001b[0;32m   1111\u001b[0m     \u001b[0mio\u001b[0m \u001b[1;33m=\u001b[0m \u001b[0mstringify_path\u001b[0m\u001b[1;33m(\u001b[0m\u001b[0mio\u001b[0m\u001b[1;33m)\u001b[0m\u001b[1;33m\u001b[0m\u001b[1;33m\u001b[0m\u001b[0m\n\u001b[0;32m   1112\u001b[0m \u001b[1;33m\u001b[0m\u001b[0m\n\u001b[1;32m-> 1113\u001b[1;33m     return _parse(\n\u001b[0m\u001b[0;32m   1114\u001b[0m         \u001b[0mflavor\u001b[0m\u001b[1;33m=\u001b[0m\u001b[0mflavor\u001b[0m\u001b[1;33m,\u001b[0m\u001b[1;33m\u001b[0m\u001b[1;33m\u001b[0m\u001b[0m\n\u001b[0;32m   1115\u001b[0m         \u001b[0mio\u001b[0m\u001b[1;33m=\u001b[0m\u001b[0mio\u001b[0m\u001b[1;33m,\u001b[0m\u001b[1;33m\u001b[0m\u001b[1;33m\u001b[0m\u001b[0m\n",
      "\u001b[1;32m~\\anaconda3\\lib\\site-packages\\pandas\\io\\html.py\u001b[0m in \u001b[0;36m_parse\u001b[1;34m(flavor, io, match, attrs, encoding, displayed_only, **kwargs)\u001b[0m\n\u001b[0;32m    917\u001b[0m \u001b[1;33m\u001b[0m\u001b[0m\n\u001b[0;32m    918\u001b[0m         \u001b[1;32mtry\u001b[0m\u001b[1;33m:\u001b[0m\u001b[1;33m\u001b[0m\u001b[1;33m\u001b[0m\u001b[0m\n\u001b[1;32m--> 919\u001b[1;33m             \u001b[0mtables\u001b[0m \u001b[1;33m=\u001b[0m \u001b[0mp\u001b[0m\u001b[1;33m.\u001b[0m\u001b[0mparse_tables\u001b[0m\u001b[1;33m(\u001b[0m\u001b[1;33m)\u001b[0m\u001b[1;33m\u001b[0m\u001b[1;33m\u001b[0m\u001b[0m\n\u001b[0m\u001b[0;32m    920\u001b[0m         \u001b[1;32mexcept\u001b[0m \u001b[0mValueError\u001b[0m \u001b[1;32mas\u001b[0m \u001b[0mcaught\u001b[0m\u001b[1;33m:\u001b[0m\u001b[1;33m\u001b[0m\u001b[1;33m\u001b[0m\u001b[0m\n\u001b[0;32m    921\u001b[0m             \u001b[1;31m# if `io` is an io-like object, check if it's seekable\u001b[0m\u001b[1;33m\u001b[0m\u001b[1;33m\u001b[0m\u001b[0m\n",
      "\u001b[1;32m~\\anaconda3\\lib\\site-packages\\pandas\\io\\html.py\u001b[0m in \u001b[0;36mparse_tables\u001b[1;34m(self)\u001b[0m\n\u001b[0;32m    237\u001b[0m         \u001b[0mlist\u001b[0m \u001b[0mof\u001b[0m \u001b[0mparsed\u001b[0m \u001b[1;33m(\u001b[0m\u001b[0mheader\u001b[0m\u001b[1;33m,\u001b[0m \u001b[0mbody\u001b[0m\u001b[1;33m,\u001b[0m \u001b[0mfooter\u001b[0m\u001b[1;33m)\u001b[0m \u001b[0mtuples\u001b[0m \u001b[1;32mfrom\u001b[0m \u001b[0mtables\u001b[0m\u001b[1;33m.\u001b[0m\u001b[1;33m\u001b[0m\u001b[1;33m\u001b[0m\u001b[0m\n\u001b[0;32m    238\u001b[0m         \"\"\"\n\u001b[1;32m--> 239\u001b[1;33m         \u001b[0mtables\u001b[0m \u001b[1;33m=\u001b[0m \u001b[0mself\u001b[0m\u001b[1;33m.\u001b[0m\u001b[0m_parse_tables\u001b[0m\u001b[1;33m(\u001b[0m\u001b[0mself\u001b[0m\u001b[1;33m.\u001b[0m\u001b[0m_build_doc\u001b[0m\u001b[1;33m(\u001b[0m\u001b[1;33m)\u001b[0m\u001b[1;33m,\u001b[0m \u001b[0mself\u001b[0m\u001b[1;33m.\u001b[0m\u001b[0mmatch\u001b[0m\u001b[1;33m,\u001b[0m \u001b[0mself\u001b[0m\u001b[1;33m.\u001b[0m\u001b[0mattrs\u001b[0m\u001b[1;33m)\u001b[0m\u001b[1;33m\u001b[0m\u001b[1;33m\u001b[0m\u001b[0m\n\u001b[0m\u001b[0;32m    240\u001b[0m         \u001b[1;32mreturn\u001b[0m \u001b[1;33m(\u001b[0m\u001b[0mself\u001b[0m\u001b[1;33m.\u001b[0m\u001b[0m_parse_thead_tbody_tfoot\u001b[0m\u001b[1;33m(\u001b[0m\u001b[0mtable\u001b[0m\u001b[1;33m)\u001b[0m \u001b[1;32mfor\u001b[0m \u001b[0mtable\u001b[0m \u001b[1;32min\u001b[0m \u001b[0mtables\u001b[0m\u001b[1;33m)\u001b[0m\u001b[1;33m\u001b[0m\u001b[1;33m\u001b[0m\u001b[0m\n\u001b[0;32m    241\u001b[0m \u001b[1;33m\u001b[0m\u001b[0m\n",
      "\u001b[1;32m~\\anaconda3\\lib\\site-packages\\pandas\\io\\html.py\u001b[0m in \u001b[0;36m_build_doc\u001b[1;34m(self)\u001b[0m\n\u001b[0;32m    749\u001b[0m             \u001b[1;31m# if the input is a blob of html goop\u001b[0m\u001b[1;33m\u001b[0m\u001b[1;33m\u001b[0m\u001b[0m\n\u001b[0;32m    750\u001b[0m             \u001b[1;32mif\u001b[0m \u001b[1;32mnot\u001b[0m \u001b[0mis_url\u001b[0m\u001b[1;33m(\u001b[0m\u001b[0mself\u001b[0m\u001b[1;33m.\u001b[0m\u001b[0mio\u001b[0m\u001b[1;33m)\u001b[0m\u001b[1;33m:\u001b[0m\u001b[1;33m\u001b[0m\u001b[1;33m\u001b[0m\u001b[0m\n\u001b[1;32m--> 751\u001b[1;33m                 \u001b[0mr\u001b[0m \u001b[1;33m=\u001b[0m \u001b[0mfromstring\u001b[0m\u001b[1;33m(\u001b[0m\u001b[0mself\u001b[0m\u001b[1;33m.\u001b[0m\u001b[0mio\u001b[0m\u001b[1;33m,\u001b[0m \u001b[0mparser\u001b[0m\u001b[1;33m=\u001b[0m\u001b[0mparser\u001b[0m\u001b[1;33m)\u001b[0m\u001b[1;33m\u001b[0m\u001b[1;33m\u001b[0m\u001b[0m\n\u001b[0m\u001b[0;32m    752\u001b[0m \u001b[1;33m\u001b[0m\u001b[0m\n\u001b[0;32m    753\u001b[0m                 \u001b[1;32mtry\u001b[0m\u001b[1;33m:\u001b[0m\u001b[1;33m\u001b[0m\u001b[1;33m\u001b[0m\u001b[0m\n",
      "\u001b[1;32m~\\anaconda3\\lib\\site-packages\\lxml\\html\\__init__.py\u001b[0m in \u001b[0;36mfromstring\u001b[1;34m(html, base_url, parser, **kw)\u001b[0m\n\u001b[0;32m    871\u001b[0m     \u001b[1;32melse\u001b[0m\u001b[1;33m:\u001b[0m\u001b[1;33m\u001b[0m\u001b[1;33m\u001b[0m\u001b[0m\n\u001b[0;32m    872\u001b[0m         \u001b[0mis_full_html\u001b[0m \u001b[1;33m=\u001b[0m \u001b[0m_looks_like_full_html_unicode\u001b[0m\u001b[1;33m(\u001b[0m\u001b[0mhtml\u001b[0m\u001b[1;33m)\u001b[0m\u001b[1;33m\u001b[0m\u001b[1;33m\u001b[0m\u001b[0m\n\u001b[1;32m--> 873\u001b[1;33m     \u001b[0mdoc\u001b[0m \u001b[1;33m=\u001b[0m \u001b[0mdocument_fromstring\u001b[0m\u001b[1;33m(\u001b[0m\u001b[0mhtml\u001b[0m\u001b[1;33m,\u001b[0m \u001b[0mparser\u001b[0m\u001b[1;33m=\u001b[0m\u001b[0mparser\u001b[0m\u001b[1;33m,\u001b[0m \u001b[0mbase_url\u001b[0m\u001b[1;33m=\u001b[0m\u001b[0mbase_url\u001b[0m\u001b[1;33m,\u001b[0m \u001b[1;33m**\u001b[0m\u001b[0mkw\u001b[0m\u001b[1;33m)\u001b[0m\u001b[1;33m\u001b[0m\u001b[1;33m\u001b[0m\u001b[0m\n\u001b[0m\u001b[0;32m    874\u001b[0m     \u001b[1;32mif\u001b[0m \u001b[0mis_full_html\u001b[0m\u001b[1;33m:\u001b[0m\u001b[1;33m\u001b[0m\u001b[1;33m\u001b[0m\u001b[0m\n\u001b[0;32m    875\u001b[0m         \u001b[1;32mreturn\u001b[0m \u001b[0mdoc\u001b[0m\u001b[1;33m\u001b[0m\u001b[1;33m\u001b[0m\u001b[0m\n",
      "\u001b[1;32m~\\anaconda3\\lib\\site-packages\\lxml\\html\\__init__.py\u001b[0m in \u001b[0;36mdocument_fromstring\u001b[1;34m(html, parser, ensure_head_body, **kw)\u001b[0m\n\u001b[0;32m    759\u001b[0m     \u001b[0mvalue\u001b[0m \u001b[1;33m=\u001b[0m \u001b[0metree\u001b[0m\u001b[1;33m.\u001b[0m\u001b[0mfromstring\u001b[0m\u001b[1;33m(\u001b[0m\u001b[0mhtml\u001b[0m\u001b[1;33m,\u001b[0m \u001b[0mparser\u001b[0m\u001b[1;33m,\u001b[0m \u001b[1;33m**\u001b[0m\u001b[0mkw\u001b[0m\u001b[1;33m)\u001b[0m\u001b[1;33m\u001b[0m\u001b[1;33m\u001b[0m\u001b[0m\n\u001b[0;32m    760\u001b[0m     \u001b[1;32mif\u001b[0m \u001b[0mvalue\u001b[0m \u001b[1;32mis\u001b[0m \u001b[1;32mNone\u001b[0m\u001b[1;33m:\u001b[0m\u001b[1;33m\u001b[0m\u001b[1;33m\u001b[0m\u001b[0m\n\u001b[1;32m--> 761\u001b[1;33m         raise etree.ParserError(\n\u001b[0m\u001b[0;32m    762\u001b[0m             \"Document is empty\")\n\u001b[0;32m    763\u001b[0m     \u001b[1;32mif\u001b[0m \u001b[0mensure_head_body\u001b[0m \u001b[1;32mand\u001b[0m \u001b[0mvalue\u001b[0m\u001b[1;33m.\u001b[0m\u001b[0mfind\u001b[0m\u001b[1;33m(\u001b[0m\u001b[1;34m'head'\u001b[0m\u001b[1;33m)\u001b[0m \u001b[1;32mis\u001b[0m \u001b[1;32mNone\u001b[0m\u001b[1;33m:\u001b[0m\u001b[1;33m\u001b[0m\u001b[1;33m\u001b[0m\u001b[0m\n",
      "\u001b[1;31mParserError\u001b[0m: Document is empty"
     ]
    }
   ],
   "source": [
    "# Lendo a tabela em HTML como um dataframe do Pandas\n",
    "\n",
    "# O código gera uma lista de dataframes do código HTML, como o código já foi filtrado, só apresenta um dataframe,\n",
    "# basta indicar o índice para acessá-lo diretamente, atribuindo a variável que representará o dataset\n",
    "dt= pd.read_html(response.content)[0]\n",
    "dt\n",
    "\n",
    "## Maneira alternativa de acessar a lista de dataframes ##\n",
    "\n",
    "# gerando a lista de dataframes\n",
    "# dt= pd.read_html(response.content)\n",
    "# Acessando o dataframe\n",
    "# dt[0]"
   ]
  },
  {
   "cell_type": "markdown",
   "id": "f3a3e858-a06a-4ddf-ad92-e0ca587ca446",
   "metadata": {},
   "source": [
    "# Etapa 2: Pré-processamento dos Dados\n",
    "\n",
    "Para evitar o tempo gasto na coleta de dados caso os dados sofram uma formatação errada, vamos trabalhar com uma cópia do dataset Original.\n"
   ]
  },
  {
   "cell_type": "code",
   "execution_count": null,
   "id": "c769adc6-555a-4239-8641-21d5fc524ca7",
   "metadata": {},
   "outputs": [],
   "source": [
    "# Criando um cópia do dataset original para o tratamento de dados\n",
    "dt_test = dt.copy()"
   ]
  },
  {
   "cell_type": "code",
   "execution_count": null,
   "id": "dd789cdc-43d2-4666-9896-1345abd8013c",
   "metadata": {
    "tags": []
   },
   "outputs": [],
   "source": [
    "# Avaliando os dados do Dataframe para identificar as limpezas necessárias\n",
    "dt_test.info()"
   ]
  },
  {
   "cell_type": "code",
   "execution_count": null,
   "id": "05f1dc6f-1f1f-42e5-9435-f2d3ef873b6b",
   "metadata": {},
   "outputs": [],
   "source": [
    "# Visualizando o nome das colunas\n",
    "dt_test.columns"
   ]
  },
  {
   "cell_type": "markdown",
   "id": "6c347341-97cf-4218-adb4-4d603af53417",
   "metadata": {},
   "source": [
    "**Obs:** As colunas possuem nomes com caracteres inválidos e que dificultam o trabalho, sendo necessário modifica-las"
   ]
  },
  {
   "cell_type": "code",
   "execution_count": null,
   "id": "addb74bc-b276-4dde-a393-dec7383c7b3c",
   "metadata": {},
   "outputs": [],
   "source": [
    "# Salvando os antigos nomes das colunas para um possível uso futuro\n",
    "colunas_antigas = dt_test.columns\n",
    "\n",
    "# Modificando os nomes das colunas para um padrão usual\n",
    "colunas = []\n",
    "for nome in dt_test.columns:\n",
    "    text = nome.strip().replace(' ','_').lower().replace('/','_sobre_') # múltiplos tratamentos de strings\n",
    "    text = unidecode.unidecode(text) # remove assentos \n",
    "    colunas.append(text)\n",
    "    \n",
    "colunas"
   ]
  },
  {
   "cell_type": "code",
   "execution_count": null,
   "id": "fd015e77-74a8-426e-9514-1dc2bdacf384",
   "metadata": {},
   "outputs": [],
   "source": [
    "# Atribuindo os novos nomes as colunas\n",
    "dt_test.columns = colunas"
   ]
  },
  {
   "cell_type": "code",
   "execution_count": null,
   "id": "0710ade0-35b8-4173-b0db-0e898224f0f2",
   "metadata": {},
   "outputs": [],
   "source": [
    "# Visualizando a modificação\n",
    "dt_test.head(3)"
   ]
  },
  {
   "cell_type": "markdown",
   "id": "a709da22-2dcf-4954-bcc6-863e419eae27",
   "metadata": {},
   "source": [
    "**Obs:** os dados numéricos estão separados por casas decimais, precisando de um tratamento para removê-las"
   ]
  },
  {
   "cell_type": "code",
   "execution_count": null,
   "id": "f74ff2ea-1202-4d7a-bc1d-cde1cb88a9b1",
   "metadata": {},
   "outputs": [],
   "source": [
    "# Removendo a pontuação dos dados no Dataset\n",
    "# Os códigos a partir deste ponto devesse tomar cuidado para não rodar mais de uma vez, caso contrário gera um erro.\n",
    "dt_test = dt_test.apply(lambda x: x.str.replace(\".\",'', regex=True) if x.dtype==\"object\" else x)\n",
    "\n",
    "# Não funciona\n",
    "# dt_test.replace(',','.', regex=True, inplace=True)"
   ]
  },
  {
   "cell_type": "code",
   "execution_count": null,
   "id": "d3284128-84c7-46fc-8fb6-6111cab2faec",
   "metadata": {},
   "outputs": [],
   "source": [
    "# Visualizando o dataset para verificar se o tratamento foi feito corretamente\n",
    "# A coluna de cotacao irá precisar de um tratamento especial que será executado mais na frente\n",
    "dt_test"
   ]
  },
  {
   "cell_type": "markdown",
   "id": "992ec528-c7d7-4b42-967f-d937b59bbfd4",
   "metadata": {},
   "source": [
    "**Obs:** os valores numéricos no python usam o ponto como caractere de separação decimal, a próxima mudança será substituir a vírgula por ponto."
   ]
  },
  {
   "cell_type": "code",
   "execution_count": null,
   "id": "c24cf013-4e07-49bb-99db-69c84ee3625f",
   "metadata": {},
   "outputs": [],
   "source": [
    "# Substituindo a vígula por ponto no dataset\n",
    "dt_test.replace(',','.', regex=True, inplace=True)\n",
    "\n",
    "## Outra forma de fazer ##\n",
    "#dt_test = dt_test.apply(lambda x: x.str.replace(\",\",\".\") if x.dtype==\"object\" else x)"
   ]
  },
  {
   "cell_type": "code",
   "execution_count": null,
   "id": "bb145793-fda0-4c20-9bfd-dabffc1567e5",
   "metadata": {},
   "outputs": [],
   "source": [
    "# Visualizando o dataset para verificar se o tratamento foi feito corretamente\n",
    "dt_test"
   ]
  },
  {
   "cell_type": "code",
   "execution_count": null,
   "id": "3fc2bcc4-b84e-45d7-8e45-cb1979569cb6",
   "metadata": {},
   "outputs": [],
   "source": [
    "# Visualizando os tipos de cada coluna do dataset\n",
    "dt_test.info()"
   ]
  },
  {
   "cell_type": "markdown",
   "id": "24b1eecd-8e2a-4e82-aed9-7f76873953d8",
   "metadata": {},
   "source": [
    "**Obs:** realizando a tipagem correta das colunas"
   ]
  },
  {
   "cell_type": "code",
   "execution_count": null,
   "id": "3dd99d67-f511-490f-8c64-c2f98ccf4440",
   "metadata": {},
   "outputs": [],
   "source": [
    "# Colunas numéricas\n",
    "colunas_numericas = [\"p_sobre_vp\",\n",
    "                    \"valor_de_mercado\",\n",
    "                    \"liquidez\",\n",
    "                    \"qtd_de_imoveis\",\n",
    "                    \"preco_do_m2\",\n",
    "                    \"aluguel_por_m2\"]  \n",
    "for coluna in colunas_numericas:\n",
    "    dt_test[coluna] = dt_test[coluna].astype(float) # Modificando o tipo da coluna\n",
    "\n",
    "\n",
    "# Colunas percentuais\n",
    "colunas_percentuais = [\"ffo_yield\",\n",
    "                      \"dividend_yield\",\n",
    "                      \"cap_rate\",\n",
    "                      \"vacancia_media\"]\n",
    "\n",
    "for coluna in colunas_percentuais:\n",
    "    dt_test[coluna] = dt_test[coluna].str.replace(\"%\",\"\", regex=True).astype(float) # Removendo o % e transformando em número\n",
    "    dt_test[coluna] = dt_test[coluna].apply(lambda x: x/100) # passando a porcentagem para a forma fracionária\n"
   ]
  },
  {
   "cell_type": "code",
   "execution_count": null,
   "id": "9df79cc9-b2a8-4413-8d11-fd767e878176",
   "metadata": {},
   "outputs": [],
   "source": [
    "# Visualizando o dataset para verificar se o tratamento foi feito corretamente\n",
    "dt_test"
   ]
  },
  {
   "cell_type": "code",
   "execution_count": null,
   "id": "e98afb13-04e8-4b9d-8938-c50e1f9b501e",
   "metadata": {},
   "outputs": [],
   "source": [
    "# Visualizando os tipos de cada coluna do dataset\n",
    "dt_test.info()"
   ]
  },
  {
   "cell_type": "code",
   "execution_count": null,
   "id": "4856bbb2-56f7-4274-aed1-b2067af0b833",
   "metadata": {},
   "outputs": [],
   "source": [
    "# Modificando uma configuração do pandas para melhorar a visualização de valores muito grandes\n",
    "pd.set_option('display.float_format', '{:.2f}'.format)"
   ]
  },
  {
   "cell_type": "code",
   "execution_count": null,
   "id": "0e605bf1-d6e9-4127-812e-b6a00d05ae7b",
   "metadata": {},
   "outputs": [],
   "source": [
    "# Visualizando o dataset para verificar se o tratamento foi feito corretamente\n",
    "dt_test"
   ]
  },
  {
   "cell_type": "markdown",
   "id": "d2429681-f07b-46ca-a85b-36db5b0aaa04",
   "metadata": {},
   "source": [
    "**Obs:** agora tratando os casos especiais, ou seja, valores do tipo NaN que como estão na coluna textual podemos substituir por Desconhecido e a Coluna cotação que exigem um tratamento especifíco"
   ]
  },
  {
   "cell_type": "code",
   "execution_count": null,
   "id": "678e5950-2c91-4da7-9b1b-a5c814c150b3",
   "metadata": {},
   "outputs": [],
   "source": [
    "# Tratando os dados do tipo NaN para um valor conhecido\n",
    "dt_test.segmento = dt_test.segmento.fillna('Desconhecido') "
   ]
  },
  {
   "cell_type": "code",
   "execution_count": null,
   "id": "7ab6f6cd-5512-4fbe-9d92-429ac92de04c",
   "metadata": {},
   "outputs": [],
   "source": [
    "# Tratando a coluna de cotação\n",
    "\n",
    "# Quando foi feita a raspagem de dados alguns valores perderam seu separador de casa decimal e outros não\n",
    "# Removendo os pontos para o tratamento geral\n",
    "dt_test.cotacao = dt_test.cotacao.str.replace(\".\",\"\", regex=True)\n",
    "\n",
    "# Sabemos que todos os preços possuem duas casas décimais, logo, podemos fazer o tratamento tendo isso em mente\n",
    "dt_test.cotacao = dt_test.cotacao.astype(float).apply(lambda x: x/100) # Divindindo todos os valores por 100, garantido duas casas decimais e modificando o tipo para numérico"
   ]
  },
  {
   "cell_type": "code",
   "execution_count": null,
   "id": "438bee73-90e9-4493-9ca0-b1496b5fb061",
   "metadata": {},
   "outputs": [],
   "source": [
    "dt_test# Visualizando o dataset para verificar se o tratamento foi feito corretamente\n",
    "dt_test"
   ]
  },
  {
   "cell_type": "markdown",
   "id": "32ba36ff-be40-4e78-9558-c5a0e845ad17",
   "metadata": {},
   "source": [
    "Como os dados variam diariamente é preciso achar uma forma coerente de salvá-los"
   ]
  },
  {
   "cell_type": "code",
   "execution_count": null,
   "id": "a9ba0d5b-dfa5-4b85-98f2-62760fa7600b",
   "metadata": {},
   "outputs": [],
   "source": [
    "# Resgatando a data do sistema para salvar com sua data respectiva de tratamento\n",
    "\n",
    "\n",
    "dia_de_raspagem = datetime.datetime.now().date() # puxando as datas\n",
    "dia_de_raspagem = dia_de_raspagem.strftime(\"_%d_%m_%Y\") # definindo o formatado da data\n",
    "dt_test.to_csv(f\"planilhas/teste{dia_de_raspagem}.csv\", index=False) # exportando como arquivo csv"
   ]
  },
  {
   "cell_type": "markdown",
   "id": "7f4bf612-0985-47a5-b4bb-2bd7bd2122c3",
   "metadata": {},
   "source": [
    "# Etapa 3: Exploração de Algoritmos de Aprendizado de Máquina"
   ]
  },
  {
   "cell_type": "markdown",
   "id": "562d03be-cd1e-44f9-9d77-13ebcbda8bca",
   "metadata": {},
   "source": [
    "# Etapada 4: Avaliação e Interpretação dos Resultados"
   ]
  },
  {
   "cell_type": "code",
   "execution_count": null,
   "id": "e3559eb2-9647-4c6a-8917-b9abffd4ad37",
   "metadata": {},
   "outputs": [],
   "source": []
  }
 ],
 "metadata": {
  "kernelspec": {
   "display_name": "Python 3 (ipykernel)",
   "language": "python",
   "name": "python3"
  },
  "language_info": {
   "codemirror_mode": {
    "name": "ipython",
    "version": 3
   },
   "file_extension": ".py",
   "mimetype": "text/x-python",
   "name": "python",
   "nbconvert_exporter": "python",
   "pygments_lexer": "ipython3",
   "version": "3.9.13"
  }
 },
 "nbformat": 4,
 "nbformat_minor": 5
}
